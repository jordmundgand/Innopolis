{
  "nbformat": 4,
  "nbformat_minor": 0,
  "metadata": {
    "colab": {
      "provenance": []
    },
    "kernelspec": {
      "name": "python3",
      "display_name": "Python 3"
    },
    "language_info": {
      "name": "python"
    }
  },
  "cells": [
    {
      "cell_type": "code",
      "execution_count": null,
      "metadata": {
        "id": "eGxD0cquOTvR"
      },
      "outputs": [],
      "source": [
        "!wget https://lodmedia.hb.bizmrg.com/case_files/883465/train_dataset_train.csv\n",
        "!wget https://lodmedia.hb.bizmrg.com/case_files/883465/test_dataset_test.csv"
      ]
    },
    {
      "cell_type": "code",
      "source": [
        "!pip install catboost"
      ],
      "metadata": {
        "id": "tQK_LmHOOnUz"
      },
      "execution_count": null,
      "outputs": []
    },
    {
      "cell_type": "code",
      "source": [
        "import time\n",
        "import os\n",
        "import pickle\n",
        "import shutil\n",
        "import pandas as pd\n",
        "import numpy as np\n",
        "import matplotlib.pyplot as plt\n",
        "import seaborn as sns\n",
        "import json\n",
        "from sklearn.cluster import dbscan,DBSCAN\n",
        "from sklearn.manifold import TSNE\n",
        "from sklearn.feature_extraction.text import TfidfTransformer, CountVectorizer, TfidfVectorizer\n",
        "from sklearn.linear_model import LinearRegression, LogisticRegression, SGDClassifier, SGDRegressor, RidgeClassifier, LogisticRegressionCV,Ridge,QuantileRegressor,PassiveAggressiveClassifier,PoissonRegressor\n",
        "from sklearn.ensemble import ExtraTreesRegressor,ExtraTreesClassifier,RandomForestClassifier,VotingClassifier,RandomForestRegressor,GradientBoostingClassifier,GradientBoostingRegressor,StackingRegressor,BaggingClassifier\n",
        "from sklearn.tree import DecisionTreeRegressor,DecisionTreeClassifier\n",
        "from sklearn.svm import LinearSVC,LinearSVR,SVR,NuSVR\n",
        "from sklearn.decomposition import TruncatedSVD,PCA,FactorAnalysis,IncrementalPCA,FastICA,KernelPCA,NMF\n",
        "from sklearn.preprocessing import RobustScaler,QuantileTransformer,PowerTransformer,PolynomialFeatures,KBinsDiscretizer,StandardScaler,OneHotEncoder,OrdinalEncoder,FunctionTransformer,MaxAbsScaler,MinMaxScaler\n",
        "from sklearn.model_selection import cross_val_score\n",
        "from sklearn.pipeline import Pipeline,FeatureUnion,TransformerMixin\n",
        "from sklearn.neighbors import KNeighborsClassifier,KNeighborsRegressor,LocalOutlierFactor,NearestCentroid\n",
        "from sklearn.model_selection import train_test_split,ShuffleSplit,StratifiedShuffleSplit,TimeSeriesSplit,GridSearchCV,KFold,StratifiedKFold\n",
        "from sklearn.feature_selection import SelectFromModel\n",
        "from sklearn.compose import ColumnTransformer\n",
        "from sklearn.experimental import enable_iterative_imputer\n",
        "from sklearn.impute import KNNImputer,SimpleImputer,IterativeImputer\n",
        "from sklearn.dummy import DummyRegressor,DummyClassifier\n",
        "from sklearn import set_config\n",
        "from sklearn.metrics.pairwise import paired_manhattan_distances\n",
        "from sklearn.metrics import r2_score,mean_absolute_error,mean_squared_error,roc_auc_score,accuracy_score,f1_score,classification_report,recall_score,make_scorer\n",
        "import catboost\n",
        "import ast"
      ],
      "metadata": {
        "id": "4M9g3y7kOnRh"
      },
      "execution_count": null,
      "outputs": []
    },
    {
      "cell_type": "code",
      "source": [
        "train=pd.read_csv('/content/train_dataset_train.csv')\n",
        "test=pd.read_csv('/content/test_dataset_test.csv')\n",
        "filt=['nd_mean_2021-04-15', 'nd_mean_2021-04-16',\n",
        "       'nd_mean_2021-04-18', 'nd_mean_2021-04-22', 'nd_mean_2021-04-26',\n",
        "       'nd_mean_2021-04-28', 'nd_mean_2021-04-30', 'nd_mean_2021-05-01',\n",
        "       'nd_mean_2021-05-02', 'nd_mean_2021-05-08', 'nd_mean_2021-05-15',\n",
        "       'nd_mean_2021-05-16', 'nd_mean_2021-05-17', 'nd_mean_2021-05-26',\n",
        "       'nd_mean_2021-05-27', 'nd_mean_2021-05-29', 'nd_mean_2021-06-07',\n",
        "       'nd_mean_2021-06-18', 'nd_mean_2021-06-19', 'nd_mean_2021-06-20',\n",
        "       'nd_mean_2021-06-22', 'nd_mean_2021-06-25', 'nd_mean_2021-06-27',\n",
        "       'nd_mean_2021-07-07', 'nd_mean_2021-07-08', 'nd_mean_2021-07-09',\n",
        "       'nd_mean_2021-07-13', 'nd_mean_2021-07-15', 'nd_mean_2021-07-17',\n",
        "       'nd_mean_2021-07-20', 'nd_mean_2021-07-26', 'nd_mean_2021-07-27',\n",
        "       'nd_mean_2021-07-29', 'nd_mean_2021-07-31', 'nd_mean_2021-08-01',\n",
        "       'nd_mean_2021-08-07', 'nd_mean_2021-08-12',\n",
        "       'nd_mean_2021-04-19', 'nd_mean_2021-05-04', 'nd_mean_2021-05-07',\n",
        "       'nd_mean_2021-05-21', 'nd_mean_2021-06-06', 'nd_mean_2021-06-09',\n",
        "       'nd_mean_2021-06-13', 'nd_mean_2021-06-16', 'nd_mean_2021-04-25',\n",
        "       'nd_mean_2021-04-27', 'nd_mean_2021-04-29', 'nd_mean_2021-06-12',\n",
        "       'nd_mean_2021-06-28', 'nd_mean_2021-08-11', 'nd_mean_2021-04-20',\n",
        "       'nd_mean_2021-04-23', 'nd_mean_2021-05-09', 'nd_mean_2021-05-10',\n",
        "       'nd_mean_2021-05-19', 'nd_mean_2021-05-20', 'nd_mean_2021-06-03',\n",
        "       'nd_mean_2021-06-04', 'nd_mean_2021-06-05', 'nd_mean_2021-06-10',\n",
        "       'nd_mean_2021-07-05', 'nd_mean_2021-08-13', 'nd_mean_2021-08-27',\n",
        "       'nd_mean_2021-05-03', 'nd_mean_2021-06-02', 'nd_mean_2021-07-04',\n",
        "       'nd_mean_2021-08-10', 'nd_mean_2021-08-23', 'nd_mean_2021-05-24']"
      ],
      "metadata": {
        "id": "9nOdjLNTOnOz"
      },
      "execution_count": null,
      "outputs": []
    },
    {
      "cell_type": "code",
      "source": [
        "# добавляем геокоординаты\n",
        "def geo_m (geo):\n",
        "  try: out=np.mean([np.array(i).mean(axis=0) for i in ast.literal_eval(geo)['coordinates']],axis=0)\n",
        "  except: out=np.array([np.nan,np.nan])\n",
        "  return out.tolist()\n",
        "train=pd.concat((train,pd.DataFrame(map(geo_m, train['.geo'].tolist()))),axis=1)\n",
        "test=pd.concat((test,pd.DataFrame(map(geo_m, test['.geo'].tolist()))),axis=1)"
      ],
      "metadata": {
        "id": "1ibvB1iGOnK9"
      },
      "execution_count": null,
      "outputs": []
    },
    {
      "cell_type": "code",
      "source": [
        "X_train,X_val,y_train,y_val=train_test_split(train[filt+[0,1,'area']].values,\n",
        "                                             train['crop'],\n",
        "                                             test_size=0.1,\n",
        "                                             random_state=0,\n",
        "                                             stratify=train['crop'])"
      ],
      "metadata": {
        "id": "1EKEuAVtOnDU"
      },
      "execution_count": null,
      "outputs": []
    },
    {
      "cell_type": "code",
      "source": [
        "cls=catboost.CatBoostClassifier(iterations=1000, \n",
        "                                learning_rate=0.1,\n",
        "                                loss_function='MultiClassOneVsAll',\n",
        "                                auto_class_weights='Balanced', \n",
        "                                use_best_model=True,\n",
        "                                eval_metric='TotalF1:average=Macro',\n",
        "                                bagging_temperature=0.1)"
      ],
      "metadata": {
        "id": "W_UtWMDET86U"
      },
      "execution_count": null,
      "outputs": []
    },
    {
      "cell_type": "code",
      "source": [
        "cls.fit(X_train,y_train,\n",
        "        eval_set=(X_val,y_val),\n",
        "        verbose=10)"
      ],
      "metadata": {
        "id": "bOMLPol-VQFd"
      },
      "execution_count": null,
      "outputs": []
    },
    {
      "cell_type": "code",
      "source": [
        "test['crop']=cls.predict(test[filt+[0,1,'area']].values)\n",
        "submit=test[['id','crop']]\n",
        "submit.to_csv('submitr31.csv',index=False)"
      ],
      "metadata": {
        "id": "Q9uHPVn1Om_P"
      },
      "execution_count": null,
      "outputs": []
    }
  ]
}